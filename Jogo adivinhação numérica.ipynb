{
 "cells": [
  {
   "cell_type": "code",
   "execution_count": null,
   "metadata": {},
   "outputs": [],
   "source": [
    "import random  # Importa o módulo 'random' para gerar números aleatórios\n",
    "\n",
    "erros = 0  # Inicializa a variável 'erros' com o valor 0 para contar as tentativas erradas\n",
    "numero = random.randrange(1, 10)  # Gera um número aleatório entre 1 e 9 (10 é excluído) e o armazena na variável 'numero'\n",
    "palpite = int(input(\"Insira um número:\"))  # Solicita ao usuário um número e converte a entrada para inteiro\n",
    "\n",
    "# Inicia um loop que continuará enquanto o palpite do usuário for diferente do número misterioso\n",
    "while palpite != numero:\n",
    "    print(\"Infelizmente você errou, tente novamente!\")  # Informa ao usuário que o palpite estava errado\n",
    "    palpite = int(input(\"Insira um número:\"))  # Solicita um novo palpite ao usuário e converte para inteiro\n",
    "    erros = erros + 1  # Incrementa a contagem de erros em 1\n",
    "\n",
    "# Após o loop terminar (o usuário acertou o número), exibe uma mensagem final\n",
    "print(f\"Parabéns você acertou, o número misterioso era {numero}. Você errou {erros} vezes o palpite.\")\n"
   ]
  }
 ],
 "metadata": {
  "kernelspec": {
   "display_name": "Python 3",
   "language": "python",
   "name": "python3"
  },
  "language_info": {
   "codemirror_mode": {
    "name": "ipython",
    "version": 3
   },
   "file_extension": ".py",
   "mimetype": "text/x-python",
   "name": "python",
   "nbconvert_exporter": "python",
   "pygments_lexer": "ipython3",
   "version": "3.11.5"
  }
 },
 "nbformat": 4,
 "nbformat_minor": 2
}
